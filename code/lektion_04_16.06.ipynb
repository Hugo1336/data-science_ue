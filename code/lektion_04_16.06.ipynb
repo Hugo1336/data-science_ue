{
 "cells": [
  {
   "cell_type": "markdown",
   "id": "f15b4cfb",
   "metadata": {},
   "source": [
    "# Megaturorial 04: Regression"
   ]
  },
  {
   "cell_type": "code",
   "execution_count": 52,
   "id": "58001d90",
   "metadata": {},
   "outputs": [],
   "source": [
    "from pandas import read_csv\n",
    "\n",
    "from sklearn.impute import SimpleImputer\n",
    "from sklearn.preprocessing import LabelEncoder\n",
    "from sklearn.model_selection import train_test_split\n",
    "from sklearn.linear_model import LinearRegression\n",
    "from sklearn.tree import DecisionTreeRegressor\n",
    "\n",
    "from sklearn.metrics import r2_score, mean_squared_error, root_mean_squared_error, mean_absolute_error"
   ]
  },
  {
   "cell_type": "markdown",
   "id": "939a62f2",
   "metadata": {},
   "source": [
    "## Daten laden"
   ]
  },
  {
   "cell_type": "code",
   "execution_count": 11,
   "id": "7616f4a7",
   "metadata": {},
   "outputs": [],
   "source": [
    "data = read_csv(\"../data/bikesharing(1).csv\", index_col=0)"
   ]
  },
  {
   "cell_type": "code",
   "execution_count": 9,
   "id": "60efc145",
   "metadata": {},
   "outputs": [
    {
     "name": "stdout",
     "output_type": "stream",
     "text": [
      "<class 'pandas.core.frame.DataFrame'>\n",
      "Index: 731 entries, 0 to 730\n",
      "Data columns (total 15 columns):\n",
      " #   Column      Non-Null Count  Dtype  \n",
      "---  ------      --------------  -----  \n",
      " 0   season      731 non-null    object \n",
      " 1   holiday     731 non-null    object \n",
      " 2   weekday     731 non-null    object \n",
      " 3   workingday  731 non-null    object \n",
      " 4   weathersit  731 non-null    object \n",
      " 5   temp        731 non-null    float64\n",
      " 6   atemp       731 non-null    float64\n",
      " 7   hum         698 non-null    float64\n",
      " 8   windspeed   731 non-null    float64\n",
      " 9   casual      731 non-null    int64  \n",
      " 10  registered  731 non-null    int64  \n",
      " 11  cnt         731 non-null    int64  \n",
      " 12  day         731 non-null    int64  \n",
      " 13  month       731 non-null    int64  \n",
      " 14  year        731 non-null    int64  \n",
      "dtypes: float64(4), int64(6), object(5)\n",
      "memory usage: 91.4+ KB\n"
     ]
    }
   ],
   "source": [
    "data.info()"
   ]
  },
  {
   "cell_type": "markdown",
   "id": "b391f283",
   "metadata": {},
   "source": [
    "# Data Preprocessing"
   ]
  },
  {
   "cell_type": "markdown",
   "id": "debd249d",
   "metadata": {},
   "source": [
    "## Imputing"
   ]
  },
  {
   "cell_type": "code",
   "execution_count": 20,
   "id": "93830a56",
   "metadata": {},
   "outputs": [],
   "source": [
    "imputer = SimpleImputer(strategy=\"median\")\n",
    "imputer.fit(data[[\"hum\"]])\n",
    "data[\"hum\"] = imputer.transform(data[[\"hum\"]])"
   ]
  },
  {
   "cell_type": "markdown",
   "id": "0c453b88",
   "metadata": {},
   "source": [
    "## Encoding"
   ]
  },
  {
   "cell_type": "code",
   "execution_count": null,
   "id": "2bd35967",
   "metadata": {},
   "outputs": [],
   "source": [
    "season_encoder = LabelEncoder()\n",
    "data[\"season\"] = season_encoder.fit_transform(data[\"season\"])\n",
    "\n",
    "holiday_encoder = LabelEncoder()\n",
    "data[\"holiday\"] = holiday_encoder.fit_transform(data[\"holiday\"])\n",
    "\n",
    "weekday_encoder = LabelEncoder()\n",
    "data[\"weekday\"] = weekday_encoder.fit_transform(data[\"weekday\"])\n",
    "\n",
    "workingday_encoder = LabelEncoder()\n",
    "data[\"workingday\"] = workingday_encoder.fit_transform(data[\"workingday\"])\n",
    "\n",
    "weathersit_encoder = LabelEncoder()\n",
    "data[\"weathersit\"] = weathersit_encoder.fit_transform(data[\"weathersit\"])\n"
   ]
  },
  {
   "cell_type": "markdown",
   "id": "99c11680",
   "metadata": {},
   "source": [
    "## Feature/Target/Split"
   ]
  },
  {
   "cell_type": "code",
   "execution_count": 29,
   "id": "f0d311a2",
   "metadata": {},
   "outputs": [
    {
     "data": {
      "text/plain": [
       "Index(['season', 'holiday', 'weekday', 'workingday', 'weathersit', 'temp',\n",
       "       'atemp', 'hum', 'windspeed', 'casual', 'registered', 'cnt', 'day',\n",
       "       'month', 'year'],\n",
       "      dtype='object')"
      ]
     },
     "execution_count": 29,
     "metadata": {},
     "output_type": "execute_result"
    }
   ],
   "source": [
    "data.columns"
   ]
  },
  {
   "cell_type": "code",
   "execution_count": 34,
   "id": "27c9c588",
   "metadata": {},
   "outputs": [],
   "source": [
    "features = [\n",
    "    'season', 'holiday', 'weekday', 'weathersit', 'temp',\n",
    "    'atemp', 'hum', 'windspeed', 'month'\n",
    "    ]\n",
    "\n",
    "target = ['cnt']\n",
    "\n",
    "x = data[features]\n",
    "y = data[target]"
   ]
  },
  {
   "cell_type": "markdown",
   "id": "b08392f4",
   "metadata": {},
   "source": [
    "## Train/Test/Split"
   ]
  },
  {
   "cell_type": "code",
   "execution_count": 66,
   "id": "1d5d5487",
   "metadata": {},
   "outputs": [],
   "source": [
    "x_train, x_test, y_train, y_test = train_test_split(x, y, test_size=0.4, random_state=875)"
   ]
  },
  {
   "cell_type": "markdown",
   "id": "ed80f46c",
   "metadata": {},
   "source": [
    "## Modelling"
   ]
  },
  {
   "cell_type": "markdown",
   "id": "870f70de",
   "metadata": {},
   "source": [
    "## Lineare Regression"
   ]
  },
  {
   "cell_type": "code",
   "execution_count": 69,
   "id": "cb5f294b",
   "metadata": {},
   "outputs": [
    {
     "name": "stdout",
     "output_type": "stream",
     "text": [
      "R² 0.5405958921616075 , RMSE 1373.1227620068084 , MAE 1163.1284232192186\n"
     ]
    }
   ],
   "source": [
    "linear_model = LinearRegression()\n",
    "linear_model.fit(x_train, y_train)\n",
    "\n",
    "predictions = linear_model.predict(x_test)\n",
    "\n",
    "print(\n",
    "    \"R²\", r2_score(y_test, predictions),\n",
    "    \", RMSE\", root_mean_squared_error(y_test, predictions),\n",
    "    \", MAE\", mean_absolute_error(y_test, predictions),\n",
    ")"
   ]
  },
  {
   "cell_type": "markdown",
   "id": "344a1c4e",
   "metadata": {},
   "source": [
    "## Decision Tree Regresssor"
   ]
  },
  {
   "cell_type": "code",
   "execution_count": 78,
   "id": "19fc9cce",
   "metadata": {},
   "outputs": [
    {
     "name": "stdout",
     "output_type": "stream",
     "text": [
      "R² 0.5545543435155273 , RMSE 1352.1014968746574 , MAE 1129.6405799590682\n"
     ]
    }
   ],
   "source": [
    "tree_model = DecisionTreeRegressor(max_depth=4)\n",
    "tree_model.fit(x_train, y_train)\n",
    "\n",
    "predictions = tree_model.predict(x_test)\n",
    "\n",
    "print(\n",
    "    \"R²\", r2_score(y_test, predictions),\n",
    "    \", RMSE\", root_mean_squared_error(y_test, predictions),\n",
    "    \", MAE\", mean_absolute_error(y_test, predictions),\n",
    ")"
   ]
  },
  {
   "cell_type": "code",
   "execution_count": null,
   "id": "e7e0044b",
   "metadata": {},
   "outputs": [],
   "source": []
  }
 ],
 "metadata": {
  "kernelspec": {
   "display_name": ".venv",
   "language": "python",
   "name": "python3"
  },
  "language_info": {
   "codemirror_mode": {
    "name": "ipython",
    "version": 3
   },
   "file_extension": ".py",
   "mimetype": "text/x-python",
   "name": "python",
   "nbconvert_exporter": "python",
   "pygments_lexer": "ipython3",
   "version": "3.12.1"
  }
 },
 "nbformat": 4,
 "nbformat_minor": 5
}
